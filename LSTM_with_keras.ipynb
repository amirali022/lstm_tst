{
 "cells": [
  {
   "cell_type": "markdown",
   "metadata": {},
   "source": [
    "##### Import statements"
   ]
  },
  {
   "cell_type": "code",
   "execution_count": 1,
   "metadata": {},
   "outputs": [
    {
     "name": "stdout",
     "output_type": "stream",
     "text": [
      "WARNING:tensorflow:From c:\\Users\\amrka\\AppData\\Local\\Programs\\Python\\Python311\\Lib\\site-packages\\keras\\src\\losses.py:2976: The name tf.losses.sparse_softmax_cross_entropy is deprecated. Please use tf.compat.v1.losses.sparse_softmax_cross_entropy instead.\n",
      "\n"
     ]
    }
   ],
   "source": [
    "import os\n",
    "os.environ[ \"TF_CPP_MIN_LOG_LEVEL\"] = \"3\"\n",
    "import numpy as np\n",
    "import pandas as pd\n",
    "import matplotlib.pyplot as plt\n",
    "import tensorflow as tf\n",
    "tf.compat.v1.logging.set_verbosity( tf.compat.v1.logging.ERROR)\n",
    "from keras.models import Sequential\n",
    "from keras.layers import Dense, LSTM\n",
    "from sklearn.preprocessing import MinMaxScaler\n",
    "from sklearn.metrics import mean_squared_error"
   ]
  },
  {
   "cell_type": "code",
   "execution_count": null,
   "metadata": {},
   "outputs": [],
   "source": []
  },
  {
   "cell_type": "code",
   "execution_count": null,
   "metadata": {},
   "outputs": [],
   "source": [
    "dataset = pd.read_csv( \"airline-passengers.csv\", parse_dates=[ \"Month\"], engine=\"python\", index_col=\"Month\")"
   ]
  },
  {
   "cell_type": "code",
   "execution_count": null,
   "metadata": {},
   "outputs": [],
   "source": [
    "dataset.head( 5)"
   ]
  },
  {
   "cell_type": "code",
   "execution_count": null,
   "metadata": {},
   "outputs": [],
   "source": [
    "plt.figure()\n",
    "plt.plot( dataset)\n",
    "plt.show()"
   ]
  },
  {
   "cell_type": "code",
   "execution_count": null,
   "metadata": {},
   "outputs": [],
   "source": [
    "data = dataset[ \"Passengers\"].values.reshape( -1, 1).astype( \"float32\")"
   ]
  },
  {
   "cell_type": "code",
   "execution_count": null,
   "metadata": {},
   "outputs": [],
   "source": [
    "scaler = MinMaxScaler( feature_range=( 0, 1))\n",
    "data = scaler.fit_transform( data)"
   ]
  },
  {
   "cell_type": "code",
   "execution_count": null,
   "metadata": {},
   "outputs": [],
   "source": [
    "train_size = int( len( dataset) * 0.67)\n",
    "test_size = len( dataset) - train_size\n",
    "train, test = data[ 0:train_size, :], data[ train_size - 1:len( dataset), :]\n",
    "\n",
    "print( f\"shape of train set: { len( train)}\")\n",
    "print( f\"shape of test set: { len( test)}\")"
   ]
  },
  {
   "cell_type": "code",
   "execution_count": null,
   "metadata": {},
   "outputs": [],
   "source": [
    "def create_dataset( dataset, lag=1):\n",
    "\tdataX, dataY = [], []\n",
    "\n",
    "\tfor i in range( len( dataset) - lag - 1):\n",
    "\t\ta = dataset[ i:( i + lag), 0]\n",
    "\t\tdataX.append( a)\n",
    "\t\tdataY.append( dataset[ i + lag, 0])\n",
    "\treturn np.array( dataX), np.array( dataY)"
   ]
  },
  {
   "cell_type": "code",
   "execution_count": null,
   "metadata": {},
   "outputs": [],
   "source": [
    "lag = 1\n",
    "\n",
    "train_X, train_y = create_dataset( train, lag)\n",
    "test_X, test_y = create_dataset( test, lag)\n",
    "\n",
    "print( f\"train_X shape: { train_X.shape}, train_y shape: { train_y.shape}\")\n",
    "print( f\"test_X shape: { test_X.shape}, test_y shape: { test_y.shape}\")"
   ]
  },
  {
   "cell_type": "code",
   "execution_count": null,
   "metadata": {},
   "outputs": [],
   "source": [
    "train_X = np.reshape( train_X, ( train_X.shape[ 0], lag, train_X.shape[ 1]))\n",
    "test_X = np.reshape( test_X, ( test_X.shape[ 0], lag, test_X.shape[ 1]))\n",
    "\n",
    "print( f\"train_X shape: { train_X.shape}, train_y shape: { train_y.shape}\")\n",
    "print( f\"test_X shape: { test_X.shape}, test_y shape: { test_y.shape}\")"
   ]
  },
  {
   "cell_type": "code",
   "execution_count": null,
   "metadata": {},
   "outputs": [],
   "source": [
    "model = Sequential( [\n",
    "\tLSTM( 4, input_shape=( lag, 1)),\n",
    "\tDense( 1)\n",
    "])\n",
    "\n",
    "model.compile(\n",
    "\tloss=\"mean_squared_error\",\n",
    "\toptimizer=\"adam\"\n",
    ")\n",
    "\n",
    "history = model.fit(\n",
    "\ttrain_X,\n",
    "\ttrain_y,\n",
    "\tepochs=100,\n",
    "\tbatch_size=1,\n",
    "\tverbose=0\n",
    ")"
   ]
  },
  {
   "cell_type": "code",
   "execution_count": null,
   "metadata": {},
   "outputs": [],
   "source": [
    "def plot_loss( history):\n",
    "\tplt.figure()\n",
    "\tplt.plot( history.history[ \"loss\"])\n",
    "\tplt.xlabel( \"Epochs\")\n",
    "\tplt.title( \"Training Loss\")\n",
    "\tplt.show()"
   ]
  },
  {
   "cell_type": "code",
   "execution_count": null,
   "metadata": {},
   "outputs": [],
   "source": [
    "plot_loss( history)"
   ]
  },
  {
   "cell_type": "code",
   "execution_count": null,
   "metadata": {},
   "outputs": [],
   "source": [
    "def evaluate( model, lag, data, scaler, train_X, train_y, test_X, test_y):\n",
    "\ttrain_pred = model.predict( train_X, verbose=0)\n",
    "\ttest_pred = model.predict( test_X, verbose=0)\n",
    "\n",
    "\ttrain_pred = scaler.inverse_transform( train_pred)\n",
    "\ttrain_true = scaler.inverse_transform( [ train_y])\n",
    "\n",
    "\ttest_pred = scaler.inverse_transform( test_pred)\n",
    "\ttest_true = scaler.inverse_transform( [ test_y])\n",
    "\n",
    "\ttrain_score = np.sqrt( mean_squared_error( train_true[ 0], train_pred[ :, 0]))\n",
    "\tprint( f\"Train Score: { train_score:.2f} RMSE\")\n",
    "\t\n",
    "\ttest_score = np.sqrt( mean_squared_error( test_true[ 0], test_pred[ :, 0]))\n",
    "\tprint( f\"Test Score: { test_score:.2f} RMSE\")\n",
    "\n",
    "\ttrain_predict_plot = np.empty_like( data)\n",
    "\ttrain_predict_plot[ :, :] = np.nan\n",
    "\ttrain_predict_plot[ lag:len( train_pred) + lag, :] = train_pred\n",
    "\n",
    "\ttest_predict_plot = np.empty_like( data)\n",
    "\ttest_predict_plot[ :, :] = np.nan\n",
    "\ttest_predict_plot[ len( train_pred) + lag * 2 + 1:len( data) - 1, :] = test_pred\n",
    "\n",
    "\tplt.figure( dpi=400)\n",
    "\tplt.plot( scaler.inverse_transform( data))\n",
    "\tplt.plot( train_predict_plot)\n",
    "\tplt.plot( test_predict_plot)\n",
    "\tplt.show()"
   ]
  },
  {
   "cell_type": "code",
   "execution_count": null,
   "metadata": {},
   "outputs": [],
   "source": [
    "evaluate( model, lag, data, scaler, train_X, train_y, test_X, test_y)"
   ]
  }
 ],
 "metadata": {
  "kernelspec": {
   "display_name": "Python 3",
   "language": "python",
   "name": "python3"
  },
  "language_info": {
   "codemirror_mode": {
    "name": "ipython",
    "version": 3
   },
   "file_extension": ".py",
   "mimetype": "text/x-python",
   "name": "python",
   "nbconvert_exporter": "python",
   "pygments_lexer": "ipython3",
   "version": "3.11.7"
  }
 },
 "nbformat": 4,
 "nbformat_minor": 2
}
