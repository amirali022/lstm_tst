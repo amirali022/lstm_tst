{
 "cells": [
  {
   "cell_type": "code",
   "execution_count": 1,
   "metadata": {},
   "outputs": [],
   "source": [
    "import pywt\n",
    "import numpy as np\n",
    "import matplotlib.pyplot as plt"
   ]
  },
  {
   "cell_type": "markdown",
   "metadata": {},
   "source": [
    "### Single-level DWT"
   ]
  },
  {
   "cell_type": "code",
   "execution_count": 2,
   "metadata": {},
   "outputs": [
    {
     "data": {
      "text/plain": [
       "(array([2.12132034, 4.94974747]), array([-0.70710678, -0.70710678]))"
      ]
     },
     "execution_count": 2,
     "metadata": {},
     "output_type": "execute_result"
    }
   ],
   "source": [
    "cA, cD = pywt.dwt( [ 1, 2, 3, 4], \"db1\")\n",
    "\n",
    "cA, cD"
   ]
  },
  {
   "cell_type": "markdown",
   "metadata": {},
   "source": [
    "### Single-level IDWT"
   ]
  },
  {
   "cell_type": "code",
   "execution_count": 3,
   "metadata": {},
   "outputs": [
    {
     "name": "stdout",
     "output_type": "stream",
     "text": [
      "Signal: [1 2 3 4]\n",
      "Approximation: [2.12132034 4.94974747]\n",
      "Detail: [-0.70710678 -0.70710678]\n",
      "Reconstructed Signal: [1. 2. 3. 4.]\n"
     ]
    }
   ],
   "source": [
    "signal = np.array( [ 1, 2, 3, 4])\n",
    "\n",
    "wavelet = \"db1\";\n",
    "\n",
    "print( f\"Signal: { signal}\")\n",
    "\n",
    "coeffs = pywt.dwt( signal, wavelet=wavelet)\n",
    "\n",
    "cA, cD = coeffs\n",
    "\n",
    "print( f\"Approximation: { cA}\")\n",
    "print( f\"Detail: { cD}\")\n",
    "\n",
    "rec_signal = pywt.idwt( cA, cD, wavelet=wavelet)\n",
    "\n",
    "print( f\"Reconstructed Signal: { rec_signal}\")"
   ]
  },
  {
   "cell_type": "markdown",
   "metadata": {},
   "source": [
    "### Multi-level DWT"
   ]
  },
  {
   "cell_type": "code",
   "execution_count": 4,
   "metadata": {},
   "outputs": [
    {
     "data": {
      "text/plain": [
       "[array([5.]), array([-2.]), array([-0.70710678, -0.70710678])]"
      ]
     },
     "execution_count": 4,
     "metadata": {},
     "output_type": "execute_result"
    }
   ],
   "source": [
    "pywt.wavedec( [ 1, 2, 3, 4], \"db1\", level=2)"
   ]
  },
  {
   "cell_type": "markdown",
   "metadata": {},
   "source": [
    "### Multi-level IDWT"
   ]
  },
  {
   "cell_type": "code",
   "execution_count": 5,
   "metadata": {},
   "outputs": [
    {
     "name": "stdout",
     "output_type": "stream",
     "text": [
      "Signal: [1, 2, 3, 4, 5, 6, 7, 8]\n",
      "Approximation Level 3: [12.72792206]\n",
      "Detail Level 3: [-5.65685425]\n",
      "Detail Level 2: [-2. -2.]\n",
      "Detail Level 1: [-0.70710678 -0.70710678 -0.70710678 -0.70710678]\n",
      "Reconstructed Signal: [1. 2. 3. 4. 5. 6. 7. 8.]\n"
     ]
    }
   ],
   "source": [
    "signal = [ 1, 2, 3, 4, 5, 6, 7, 8]\n",
    "\n",
    "print( f\"Signal: { signal}\")\n",
    "\n",
    "wavelet=\"db1\"\n",
    "\n",
    "coeffs = pywt.wavedec( signal, wavelet=wavelet, level=3)\n",
    "\n",
    "cA3, cD3, cD2, cD1 = coeffs\n",
    "print( f\"Approximation Level 3: { cA3}\")\n",
    "print( f\"Detail Level 3: { cD3}\")\n",
    "print( f\"Detail Level 2: { cD2}\")\n",
    "print( f\"Detail Level 1: { cD1}\")\n",
    "\n",
    "rec_signal = pywt.waverec( [ cA3, cD3, cD2, cD1], wavelet=wavelet)\n",
    "\n",
    "print( f\"Reconstructed Signal: { rec_signal}\")"
   ]
  },
  {
   "cell_type": "code",
   "execution_count": 6,
   "metadata": {},
   "outputs": [
    {
     "name": "stdout",
     "output_type": "stream",
     "text": [
      "Signal: [1, 2, 3, 4, 5, 6, 7, 8]\n",
      "Level 1:\n",
      "Detail: [-0.70710678 -0.70710678 -0.70710678 -0.70710678]\n",
      "Approximation: [ 2.12132034  4.94974747  7.77817459 10.60660172]\n",
      "Level 2:\n",
      "Detail: [-2. -2.]\n",
      "Approximation: [ 5. 13.]\n",
      "Level 3:\n",
      "Detail: [-5.65685425]\n",
      "Approximation: [12.72792206]\n"
     ]
    }
   ],
   "source": [
    "signal = [ 1, 2, 3, 4, 5, 6, 7, 8]\n",
    "\n",
    "print( f\"Signal: { signal}\")\n",
    "\n",
    "wavelet=\"db1\"\n",
    "\n",
    "cA1, cD1 = pywt.dwt( signal, wavelet=wavelet)\n",
    "\n",
    "print( \"Level 1:\")\n",
    "print( f\"Detail: { cD1}\")\n",
    "print( f\"Approximation: { cA1}\")\n",
    "\n",
    "cA2, cD2 = pywt.dwt( cA1, wavelet=wavelet)\n",
    "\n",
    "print( \"Level 2:\")\n",
    "print( f\"Detail: { cD2}\")\n",
    "print( f\"Approximation: { cA2}\")\n",
    "\n",
    "cA3, cD3 = pywt.dwt( cA2, wavelet=wavelet)\n",
    "\n",
    "print( \"Level 3:\")\n",
    "print( f\"Detail: { cD3}\")\n",
    "print( f\"Approximation: { cA3}\")"
   ]
  },
  {
   "cell_type": "markdown",
   "metadata": {},
   "source": [
    "### CWT"
   ]
  },
  {
   "cell_type": "code",
   "execution_count": 7,
   "metadata": {},
   "outputs": [
    {
     "data": {
      "text/plain": [
       "(array([[ 0.12593504,  0.01182177, -0.02259743, -0.61833643],\n",
       "        [-0.09947654,  0.45993477, -0.87064999,  0.78026756],\n",
       "        [-0.0611729 , -0.83188766, -0.10585816,  1.47781123],\n",
       "        [-1.47676641, -0.7892306 ,  1.24867472,  1.99924781],\n",
       "        [-1.72708547,  0.05983985,  1.99700753,  2.40506692],\n",
       "        [-1.27972299,  0.73914959,  2.4214839 ,  2.63915731],\n",
       "        [-0.63372458,  1.29963537,  2.58824377,  2.6793111 ],\n",
       "        [ 0.01329859,  1.61060798,  2.66492535,  2.72154463],\n",
       "        [ 0.53199105,  1.84258653,  2.64986731,  2.68196876]]),\n",
       " array([0.8125    , 0.40625   , 0.27083333, 0.203125  , 0.1625    ,\n",
       "        0.13541667, 0.11607143, 0.1015625 , 0.09027778]))"
      ]
     },
     "execution_count": 7,
     "metadata": {},
     "output_type": "execute_result"
    }
   ],
   "source": [
    "coeff, freq = pywt.cwt( data=[ 1, 2, 3, 4],\n",
    "\t\t  scales=np.arange( 1, 10, 1),\n",
    "\t\t  wavelet=\"morl\")\n",
    "\n",
    "coeff, freq"
   ]
  },
  {
   "cell_type": "markdown",
   "metadata": {},
   "source": [
    "### Wavelet objects"
   ]
  },
  {
   "cell_type": "code",
   "execution_count": 8,
   "metadata": {},
   "outputs": [
    {
     "name": "stdout",
     "output_type": "stream",
     "text": [
      "Wavelet db2\n",
      "  Family name:    Daubechies\n",
      "  Short name:     db\n",
      "  Filters length: 4\n",
      "  Orthogonal:     True\n",
      "  Biorthogonal:   True\n",
      "  Symmetry:       asymmetric\n",
      "  DWT:            True\n",
      "  CWT:            False\n",
      "Deconstruction - Low Pass: [-0.12940952255126037, 0.2241438680420134, 0.8365163037378079, 0.48296291314453416]\n",
      "Deconstruction - High Pass: [-0.48296291314453416, 0.8365163037378079, -0.2241438680420134, -0.12940952255126037]\n",
      "Reconstruction - Low Pass: [0.48296291314453416, 0.8365163037378079, 0.2241438680420134, -0.12940952255126037]\n",
      "Reconstruction - High Pass: [-0.12940952255126037, -0.2241438680420134, 0.8365163037378079, -0.48296291314453416]\n",
      "Vanishing Moments PSI: 2\n",
      "Vanishing Moments PHI: 0\n"
     ]
    }
   ],
   "source": [
    "def print_wave( name):\n",
    "\tw = pywt.Wavelet( name)\n",
    "\tprint( w)\n",
    "\n",
    "\tprint( f\"Deconstruction - Low Pass: { w.dec_lo}\")\n",
    "\tprint( f\"Deconstruction - High Pass: { w.dec_hi}\")\n",
    "\tprint( f\"Reconstruction - Low Pass: { w.rec_lo}\")\n",
    "\tprint( f\"Reconstruction - High Pass: { w.rec_hi}\")\n",
    "\n",
    "\tprint( f\"Vanishing Moments PSI: { w.vanishing_moments_psi}\")\n",
    "\tprint( f\"Vanishing Moments PHI: { w.vanishing_moments_phi}\")\n",
    "\n",
    "print_wave( \"db2\")"
   ]
  },
  {
   "cell_type": "code",
   "execution_count": 9,
   "metadata": {},
   "outputs": [
    {
     "name": "stdout",
     "output_type": "stream",
     "text": [
      "Wavelet db3\n",
      "  Family name:    Daubechies\n",
      "  Short name:     db\n",
      "  Filters length: 6\n",
      "  Orthogonal:     True\n",
      "  Biorthogonal:   True\n",
      "  Symmetry:       asymmetric\n",
      "  DWT:            True\n",
      "  CWT:            False\n"
     ]
    },
    {
     "data": {
      "image/png": "[encoded data removed]",
      "text/plain": [
       "<Figure size 900x500 with 4 Axes>"
      ]
     },
     "metadata": {},
     "output_type": "display_data"
    }
   ],
   "source": [
    "w = pywt.Wavelet( \"db3\")\n",
    "\n",
    "print( w)\n",
    "\n",
    "plt.figure( figsize=( 9, 5))\n",
    "\n",
    "plt.subplot( 2, 2, 1).plot( w.dec_lo, label=\"Decomposition Low\")\n",
    "plt.legend()\n",
    "plt.subplot( 2, 2, 2).plot( w.dec_hi, label=\"Decomposition High\")\n",
    "plt.legend()\n",
    "plt.subplot( 2, 2, 3).plot( w.rec_lo, label=\"Reconstruction Low\")\n",
    "plt.legend()\n",
    "plt.subplot( 2, 2, 4).plot( w.rec_hi, label=\"Reconstruction High\")\n",
    "plt.legend()\n",
    "\n",
    "plt.show()"
   ]
  },
  {
   "cell_type": "markdown",
   "metadata": {},
   "source": [
    "### Wavelet from scratch"
   ]
  },
  {
   "cell_type": "code",
   "execution_count": 10,
   "metadata": {},
   "outputs": [],
   "source": [
    "def convolve_1d( signal, kernel, stride=1):\n",
    "    N = len( signal)\n",
    "    K = len( kernel)\n",
    "    \n",
    "    # Reverse the kernel\n",
    "    kernel = kernel[::-1]\n",
    "    \n",
    "    # Compute the range and step based on the stride\n",
    "    output_length = ( N - K) // stride + 1\n",
    "    result = []\n",
    "    \n",
    "    for i in range( 0, output_length * stride, stride):\n",
    "        # Define the segment of the signal and kernel to dot product\n",
    "        segment = signal[ i: i + K]\n",
    "        dot_product = np.dot( segment, kernel[ :len( segment)])\n",
    "        result.append( dot_product)\n",
    "    \n",
    "    return result"
   ]
  },
  {
   "cell_type": "code",
   "execution_count": 11,
   "metadata": {},
   "outputs": [],
   "source": [
    "def dwt( signal, low_decon_filter, high_docon_filter):\n",
    "\tapprox_coef = convolve_1d( signal, low_decon_filter, len( low_decon_filter))\n",
    "\tdetail_coef = convolve_1d( signal, high_docon_filter, len( high_docon_filter))\n",
    "\n",
    "\treturn approx_coef, detail_coef"
   ]
  },
  {
   "cell_type": "code",
   "execution_count": 12,
   "metadata": {},
   "outputs": [
    {
     "name": "stdout",
     "output_type": "stream",
     "text": [
      "Approx: [2.121320343559643, 4.949747468305834]\n",
      "Detail: [-0.7071067811865476, -0.7071067811865475]\n"
     ]
    },
    {
     "data": {
      "text/plain": [
       "True"
      ]
     },
     "execution_count": 12,
     "metadata": {},
     "output_type": "execute_result"
    }
   ],
   "source": [
    "w = pywt.Wavelet( \"db1\")\n",
    "\n",
    "mcA, mcD = dwt(\n",
    "\tsignal=[ 1, 2, 3, 4],\n",
    "\tlow_decon_filter=w.dec_lo,\n",
    "\thigh_docon_filter=w.dec_hi)\n",
    "\n",
    "print( f\"Approx: { mcA}\")\n",
    "print( f\"Detail: { mcD}\")\n",
    "\n",
    "np.allclose( cA, mcA) and np.allclose( cD, mcD)"
   ]
  },
  {
   "cell_type": "code",
   "execution_count": 13,
   "metadata": {},
   "outputs": [],
   "source": [
    "def upsamplex2( coefficients):\n",
    "\tupsampled = np.zeros( len( coefficients) * 2)\n",
    "\tupsampled[ ::2] = coefficients\n",
    "\treturn upsampled"
   ]
  },
  {
   "cell_type": "code",
   "execution_count": 14,
   "metadata": {},
   "outputs": [],
   "source": [
    "def convolve_and_sum( upsampled_approx, upsampled_detail, low_recon_filter, high_recon_filter):\n",
    "\tapprox_convolved = np.convolve( upsampled_approx, low_recon_filter, mode=\"same\")\n",
    "\tdetail_convolved = np.convolve( upsampled_detail, high_recon_filter, mode=\"same\")\n",
    "\n",
    "\treturn approx_convolved + detail_convolved"
   ]
  },
  {
   "cell_type": "code",
   "execution_count": 15,
   "metadata": {},
   "outputs": [],
   "source": [
    "def idwt( approx_ceof, detail_coef, low_recon_filter, high_recon_filter):\n",
    "\n",
    "\tupsampled_approx = upsamplex2( approx_ceof)\n",
    "\tupsampled_detail = upsamplex2( detail_coef)\n",
    "\n",
    "\treconstructed_signal = convolve_and_sum( upsampled_approx, upsampled_detail, low_recon_filter, high_recon_filter)\n",
    "\n",
    "\treturn reconstructed_signal"
   ]
  },
  {
   "cell_type": "code",
   "execution_count": 16,
   "metadata": {},
   "outputs": [
    {
     "name": "stdout",
     "output_type": "stream",
     "text": [
      "Reconstructed Signal: [1. 2. 3. 4.]\n"
     ]
    }
   ],
   "source": [
    "reconstructed_signal = idwt( approx_ceof=mcA, \n",
    "\t  detail_coef=mcD,\n",
    "\t  low_recon_filter=w.rec_lo,\n",
    "\t  high_recon_filter=w.rec_hi)\n",
    "\n",
    "print( f\"Reconstructed Signal: { reconstructed_signal}\")"
   ]
  },
  {
   "cell_type": "markdown",
   "metadata": {},
   "source": [
    "### Multi-level wavelet transform test"
   ]
  },
  {
   "cell_type": "code",
   "execution_count": 17,
   "metadata": {},
   "outputs": [
    {
     "name": "stdout",
     "output_type": "stream",
     "text": [
      "Level 1:\n",
      "Detail: [-0.7071067811865476, -0.7071067811865475, -0.7071067811865479, -0.7071067811865479]\n",
      "Approximation: [2.121320343559643, 4.949747468305834, 7.778174593052023, 10.606601717798213]\n",
      "True\n",
      "Level 2:\n",
      "Detail: [-2.000000000000001, -2.0]\n",
      "Approximation: [5.000000000000001, 13.000000000000002]\n",
      "True\n",
      "Level 3:\n",
      "Detail: [-5.656854249492381]\n",
      "Approximation: [12.727922061357859]\n",
      "True\n"
     ]
    }
   ],
   "source": [
    "signal = [ 1, 2, 3, 4, 5, 6, 7, 8]\n",
    "\n",
    "mcA1, mcD1 = dwt( signal=signal,\n",
    "\t\t\t    low_decon_filter=w.dec_lo,\n",
    "\t\t\t\thigh_docon_filter=w.dec_hi)\n",
    "\n",
    "print( \"Level 1:\")\n",
    "print( f\"Detail: { mcD1}\")\n",
    "print( f\"Approximation: { mcA1}\")\n",
    "print( np.allclose( cA1, mcA1) and np.allclose( cD1, mcD1))\n",
    "\n",
    "mcA2, mcD2 = dwt( signal=cA1,\n",
    "\t\t\t    low_decon_filter=w.dec_lo,\n",
    "\t\t\t\thigh_docon_filter=w.dec_hi)\n",
    "\n",
    "print( \"Level 2:\")\n",
    "print( f\"Detail: { mcD2}\")\n",
    "print( f\"Approximation: { mcA2}\")\n",
    "print( np.allclose( cA2, mcA2) and np.allclose( cD2, mcD2))\n",
    "\n",
    "mcA3, mcD3 = dwt( signal=cA2,\n",
    "\t\t\t    low_decon_filter=w.dec_lo,\n",
    "\t\t\t\thigh_docon_filter=w.dec_hi)\n",
    "\n",
    "print( \"Level 3:\")\n",
    "print( f\"Detail: { mcD3}\")\n",
    "print( f\"Approximation: { mcA3}\")\n",
    "print( np.allclose( cA3, mcA3) and np.allclose( cD3, mcD3))"
   ]
  },
  {
   "cell_type": "markdown",
   "metadata": {},
   "source": [
    "### Multi-level reconstruction test"
   ]
  },
  {
   "cell_type": "code",
   "execution_count": 18,
   "metadata": {},
   "outputs": [
    {
     "name": "stdout",
     "output_type": "stream",
     "text": [
      "Reconstructed Approximation Level 2: [ 5. 13.]\n",
      "True\n",
      "Reconstructed Approximation Level 1: [ 2.12132034  4.94974747  7.77817459 10.60660172]\n",
      "True\n",
      "Reconstructed Signal: [1. 2. 3. 4. 5. 6. 7. 8.]\n",
      "True\n"
     ]
    }
   ],
   "source": [
    "rmcA2 = idwt( approx_ceof=mcA3,\n",
    "\t\t\t  detail_coef=mcD3,\n",
    "\t\t\t  low_recon_filter=w.rec_lo,\n",
    "\t\t\t  high_recon_filter=w.rec_hi)\n",
    "\n",
    "print( f\"Reconstructed Approximation Level 2: { rmcA2}\")\n",
    "print( np.allclose( mcA2, rmcA2))\n",
    "\n",
    "rmcA1 = idwt( approx_ceof=rmcA2,\n",
    "\t\t\t  detail_coef=mcD2,\n",
    "\t\t\t  low_recon_filter=w.rec_lo,\n",
    "\t\t\t  high_recon_filter=w.rec_hi)\n",
    "\n",
    "print( f\"Reconstructed Approximation Level 1: { rmcA1}\")\n",
    "print( np.allclose( mcA1, rmcA1))\n",
    "\n",
    "recon_signal = idwt( approx_ceof=rmcA1,\n",
    "\t\t\t \t\t detail_coef=mcD1,\n",
    "\t\t\t \t\t low_recon_filter=w.rec_lo,\n",
    "\t\t\t \t\t high_recon_filter=w.rec_hi)\n",
    "\n",
    "print( f\"Reconstructed Signal: { recon_signal}\")\n",
    "print( np.allclose( signal, recon_signal))"
   ]
  },
  {
   "cell_type": "markdown",
   "metadata": {},
   "source": [
    "### Wavelet Families"
   ]
  },
  {
   "cell_type": "code",
   "execution_count": 19,
   "metadata": {},
   "outputs": [
    {
     "data": {
      "text/plain": [
       "['haar',\n",
       " 'db',\n",
       " 'sym',\n",
       " 'coif',\n",
       " 'bior',\n",
       " 'rbio',\n",
       " 'dmey',\n",
       " 'gaus',\n",
       " 'mexh',\n",
       " 'morl',\n",
       " 'cgau',\n",
       " 'shan',\n",
       " 'fbsp',\n",
       " 'cmor']"
      ]
     },
     "execution_count": 19,
     "metadata": {},
     "output_type": "execute_result"
    }
   ],
   "source": [
    "pywt.families()"
   ]
  },
  {
   "cell_type": "code",
   "execution_count": 20,
   "metadata": {},
   "outputs": [
    {
     "name": "stdout",
     "output_type": "stream",
     "text": [
      "bior1.1 bior1.3 bior1.5 bior2.2 bior2.4 bior2.6 bior2.8 bior3.1 bior3.3 bior3.5 \n",
      "bior3.7 bior3.9 bior4.4 bior5.5 bior6.8 coif1 coif2 coif3 coif4 coif5 \n",
      "coif6 coif7 coif8 coif9 coif10 coif11 coif12 coif13 coif14 coif15 \n",
      "coif16 coif17 db1 db2 db3 db4 db5 db6 db7 db8 \n",
      "db9 db10 db11 db12 db13 db14 db15 db16 db17 db18 \n",
      "db19 db20 db21 db22 db23 db24 db25 db26 db27 db28 \n",
      "db29 db30 db31 db32 db33 db34 db35 db36 db37 db38 \n",
      "dmey haar rbio1.1 rbio1.3 rbio1.5 rbio2.2 rbio2.4 rbio2.6 rbio2.8 rbio3.1 \n",
      "rbio3.3 rbio3.5 rbio3.7 rbio3.9 rbio4.4 rbio5.5 rbio6.8 sym2 sym3 sym4 \n",
      "sym5 sym6 sym7 sym8 sym9 sym10 sym11 sym12 sym13 sym14 \n",
      "sym15 sym16 sym17 sym18 sym19 sym20 "
     ]
    }
   ],
   "source": [
    "c = 0\n",
    "for p in pywt.wavelist( kind=\"discrete\"):\n",
    "\tprint( p, end=\" \")\n",
    "\tc += 1\n",
    "\tif c % 10 == 0: print()"
   ]
  },
  {
   "cell_type": "code",
   "execution_count": 21,
   "metadata": {},
   "outputs": [
    {
     "name": "stdout",
     "output_type": "stream",
     "text": [
      "Wavelet db2\n",
      "  Family name:    Daubechies\n",
      "  Short name:     db\n",
      "  Filters length: 4\n",
      "  Orthogonal:     True\n",
      "  Biorthogonal:   True\n",
      "  Symmetry:       asymmetric\n",
      "  DWT:            True\n",
      "  CWT:            False\n",
      "Deconstruction - Low Pass: [-0.12940952255126037, 0.2241438680420134, 0.8365163037378079, 0.48296291314453416]\n",
      "Deconstruction - High Pass: [-0.48296291314453416, 0.8365163037378079, -0.2241438680420134, -0.12940952255126037]\n",
      "Reconstruction - Low Pass: [0.48296291314453416, 0.8365163037378079, 0.2241438680420134, -0.12940952255126037]\n",
      "Reconstruction - High Pass: [-0.12940952255126037, -0.2241438680420134, 0.8365163037378079, -0.48296291314453416]\n",
      "Vanishing Moments PSI: 2\n",
      "Vanishing Moments PHI: 0\n"
     ]
    }
   ],
   "source": [
    "print_wave( \"db2\")"
   ]
  },
  {
   "cell_type": "markdown",
   "metadata": {},
   "source": [
    "### Create my Custom Wavelet"
   ]
  },
  {
   "cell_type": "code",
   "execution_count": 22,
   "metadata": {},
   "outputs": [
    {
     "data": {
      "text/plain": [
       "array([2., 4., 6., 8.])"
      ]
     },
     "execution_count": 22,
     "metadata": {},
     "output_type": "execute_result"
    }
   ],
   "source": [
    "dec_lo, dec_hi, rec_lo, rec_hi = [ 1, 1], [ -1, 1], [ 1, 1], [ 1, -1]\n",
    "\n",
    "filter_bank = [ dec_lo, dec_hi, rec_lo, rec_hi]\n",
    "\n",
    "myWavelet = pywt.Wavelet( name=\"my wavelet\", filter_bank=filter_bank)\n",
    "\n",
    "cA, cD = pywt.dwt( [ 1, 2, 3, 4], wavelet=myWavelet)\n",
    "\n",
    "pywt.idwt( cA, cD, wavelet=myWavelet)"
   ]
  },
  {
   "cell_type": "markdown",
   "metadata": {},
   "source": [
    "### Creating Filter Bank Based on Low Pass Analysis Filter"
   ]
  },
  {
   "cell_type": "code",
   "execution_count": 23,
   "metadata": {},
   "outputs": [],
   "source": [
    "def create_high_pass( low_pass_filter):\n",
    "\treversed_low_pass_filter = low_pass_filter[::-1]\n",
    "\n",
    "\thigh_pass_filter = np.array( [ ( -1) ** ( i + 1) * coef for i, coef in enumerate( reversed_low_pass_filter)])\n",
    "    \n",
    "\treturn high_pass_filter\n",
    "\n",
    "def create_low_pass_reconstruction( low_pass_filter):\n",
    "\thigh_pass_deconstruction_filter = create_high_pass( low_pass_filter)\n",
    "\n",
    "\tlow_pass_reconstruction = np.array( [ ( -1) ** ( i + 1) * coef for i, coef in enumerate( high_pass_deconstruction_filter)])\n",
    "\n",
    "\treturn low_pass_reconstruction\n",
    "\n",
    "def create_high_pass_reconstruction( low_pass_filter):\n",
    "\thigh_pass_reconstruction = np.array( [ ( -1) ** ( i) * coef for i, coef in enumerate( low_pass_filter)])\n",
    "\n",
    "\treturn high_pass_reconstruction\n",
    "\n",
    "def create_filter_bank_from_low_pass_analysis( low_pass_analysis):\n",
    "\thigh_pass_analysis = create_high_pass( low_pass_analysis)\n",
    "\tlow_pass_reconstruction = create_low_pass_reconstruction( low_pass_analysis)\n",
    "\thigh_pass_reconstruction = create_high_pass_reconstruction( low_pass_analysis)\n",
    "\n",
    "\treturn np.array( low_pass_analysis), high_pass_analysis, low_pass_reconstruction, high_pass_reconstruction"
   ]
  },
  {
   "cell_type": "code",
   "execution_count": 24,
   "metadata": {},
   "outputs": [
    {
     "name": "stdout",
     "output_type": "stream",
     "text": [
      "\t\tDec_Lo?\t\tDec_Lo?\t\tRec_Lo?\t\tRec_Hi?\n",
      "bior1.1\t\tTrue\t\tTrue\t\tTrue\t\tTrue\n",
      "bior1.3\t\tTrue\t\tFalse\t\tFalse\t\tTrue\n",
      "bior1.5\t\tTrue\t\tFalse\t\tFalse\t\tTrue\n",
      "bior2.2\t\tTrue\t\tFalse\t\tFalse\t\tTrue\n",
      "bior2.4\t\tTrue\t\tFalse\t\tFalse\t\tTrue\n",
      "bior2.6\t\tTrue\t\tFalse\t\tFalse\t\tTrue\n",
      "bior2.8\t\tTrue\t\tFalse\t\tFalse\t\tTrue\n",
      "bior3.1\t\tTrue\t\tFalse\t\tFalse\t\tTrue\n",
      "bior3.3\t\tTrue\t\tFalse\t\tFalse\t\tTrue\n",
      "bior3.5\t\tTrue\t\tFalse\t\tFalse\t\tTrue\n",
      "bior3.7\t\tTrue\t\tFalse\t\tFalse\t\tTrue\n",
      "bior3.9\t\tTrue\t\tFalse\t\tFalse\t\tTrue\n",
      "bior4.4\t\tTrue\t\tFalse\t\tFalse\t\tTrue\n",
      "bior5.5\t\tTrue\t\tFalse\t\tFalse\t\tTrue\n",
      "bior6.8\t\tTrue\t\tFalse\t\tFalse\t\tTrue\n",
      "coif1\t\tTrue\t\tTrue\t\tTrue\t\tTrue\n",
      "coif2\t\tTrue\t\tTrue\t\tTrue\t\tTrue\n",
      "coif3\t\tTrue\t\tTrue\t\tTrue\t\tTrue\n",
      "coif4\t\tTrue\t\tTrue\t\tTrue\t\tTrue\n",
      "coif5\t\tTrue\t\tTrue\t\tTrue\t\tTrue\n",
      "coif6\t\tTrue\t\tTrue\t\tTrue\t\tTrue\n",
      "coif7\t\tTrue\t\tTrue\t\tTrue\t\tTrue\n",
      "coif8\t\tTrue\t\tTrue\t\tTrue\t\tTrue\n",
      "coif9\t\tTrue\t\tTrue\t\tTrue\t\tTrue\n",
      "coif10\t\tTrue\t\tTrue\t\tTrue\t\tTrue\n",
      "coif11\t\tTrue\t\tTrue\t\tTrue\t\tTrue\n",
      "coif12\t\tTrue\t\tTrue\t\tTrue\t\tTrue\n",
      "coif13\t\tTrue\t\tTrue\t\tTrue\t\tTrue\n",
      "coif14\t\tTrue\t\tTrue\t\tTrue\t\tTrue\n",
      "coif15\t\tTrue\t\tTrue\t\tTrue\t\tTrue\n",
      "coif16\t\tTrue\t\tTrue\t\tTrue\t\tTrue\n",
      "coif17\t\tTrue\t\tTrue\t\tTrue\t\tTrue\n",
      "db1\t\tTrue\t\tTrue\t\tTrue\t\tTrue\n",
      "db2\t\tTrue\t\tTrue\t\tTrue\t\tTrue\n",
      "db3\t\tTrue\t\tTrue\t\tTrue\t\tTrue\n",
      "db4\t\tTrue\t\tTrue\t\tTrue\t\tTrue\n",
      "db5\t\tTrue\t\tTrue\t\tTrue\t\tTrue\n",
      "db6\t\tTrue\t\tTrue\t\tTrue\t\tTrue\n",
      "db7\t\tTrue\t\tTrue\t\tTrue\t\tTrue\n",
      "db8\t\tTrue\t\tTrue\t\tTrue\t\tTrue\n",
      "db9\t\tTrue\t\tTrue\t\tTrue\t\tTrue\n",
      "db10\t\tTrue\t\tTrue\t\tTrue\t\tTrue\n",
      "db11\t\tTrue\t\tTrue\t\tTrue\t\tTrue\n",
      "db12\t\tTrue\t\tTrue\t\tTrue\t\tTrue\n",
      "db13\t\tTrue\t\tTrue\t\tTrue\t\tTrue\n",
      "db14\t\tTrue\t\tTrue\t\tTrue\t\tTrue\n",
      "db15\t\tTrue\t\tTrue\t\tTrue\t\tTrue\n",
      "db16\t\tTrue\t\tTrue\t\tTrue\t\tTrue\n",
      "db17\t\tTrue\t\tTrue\t\tTrue\t\tTrue\n",
      "db18\t\tTrue\t\tTrue\t\tTrue\t\tTrue\n",
      "db19\t\tTrue\t\tTrue\t\tTrue\t\tTrue\n",
      "db20\t\tTrue\t\tTrue\t\tTrue\t\tTrue\n",
      "db21\t\tTrue\t\tTrue\t\tTrue\t\tTrue\n",
      "db22\t\tTrue\t\tTrue\t\tTrue\t\tTrue\n",
      "db23\t\tTrue\t\tTrue\t\tTrue\t\tTrue\n",
      "db24\t\tTrue\t\tTrue\t\tTrue\t\tTrue\n",
      "db25\t\tTrue\t\tTrue\t\tTrue\t\tTrue\n",
      "db26\t\tTrue\t\tTrue\t\tTrue\t\tTrue\n",
      "db27\t\tTrue\t\tTrue\t\tTrue\t\tTrue\n",
      "db28\t\tTrue\t\tTrue\t\tTrue\t\tTrue\n",
      "db29\t\tTrue\t\tTrue\t\tTrue\t\tTrue\n",
      "db30\t\tTrue\t\tTrue\t\tTrue\t\tTrue\n",
      "db31\t\tTrue\t\tTrue\t\tTrue\t\tTrue\n",
      "db32\t\tTrue\t\tTrue\t\tTrue\t\tTrue\n",
      "db33\t\tTrue\t\tTrue\t\tTrue\t\tTrue\n",
      "db34\t\tTrue\t\tTrue\t\tTrue\t\tTrue\n",
      "db35\t\tTrue\t\tTrue\t\tTrue\t\tTrue\n",
      "db36\t\tTrue\t\tTrue\t\tTrue\t\tTrue\n",
      "db37\t\tTrue\t\tTrue\t\tTrue\t\tTrue\n",
      "db38\t\tTrue\t\tTrue\t\tTrue\t\tTrue\n",
      "dmey\t\tTrue\t\tTrue\t\tTrue\t\tTrue\n",
      "haar\t\tTrue\t\tTrue\t\tTrue\t\tTrue\n",
      "rbio1.1\t\tTrue\t\tTrue\t\tTrue\t\tTrue\n",
      "rbio1.3\t\tTrue\t\tFalse\t\tFalse\t\tTrue\n",
      "rbio1.5\t\tTrue\t\tFalse\t\tFalse\t\tTrue\n",
      "rbio2.2\t\tTrue\t\tFalse\t\tFalse\t\tTrue\n",
      "rbio2.4\t\tTrue\t\tFalse\t\tFalse\t\tTrue\n",
      "rbio2.6\t\tTrue\t\tFalse\t\tFalse\t\tTrue\n",
      "rbio2.8\t\tTrue\t\tFalse\t\tFalse\t\tTrue\n",
      "rbio3.1\t\tTrue\t\tFalse\t\tFalse\t\tTrue\n",
      "rbio3.3\t\tTrue\t\tFalse\t\tFalse\t\tTrue\n",
      "rbio3.5\t\tTrue\t\tFalse\t\tFalse\t\tTrue\n",
      "rbio3.7\t\tTrue\t\tFalse\t\tFalse\t\tTrue\n",
      "rbio3.9\t\tTrue\t\tFalse\t\tFalse\t\tTrue\n",
      "rbio4.4\t\tTrue\t\tFalse\t\tFalse\t\tTrue\n",
      "rbio5.5\t\tTrue\t\tFalse\t\tFalse\t\tTrue\n",
      "rbio6.8\t\tTrue\t\tFalse\t\tFalse\t\tTrue\n",
      "sym2\t\tTrue\t\tTrue\t\tTrue\t\tTrue\n",
      "sym3\t\tTrue\t\tTrue\t\tTrue\t\tTrue\n",
      "sym4\t\tTrue\t\tTrue\t\tTrue\t\tTrue\n",
      "sym5\t\tTrue\t\tTrue\t\tTrue\t\tTrue\n",
      "sym6\t\tTrue\t\tTrue\t\tTrue\t\tTrue\n",
      "sym7\t\tTrue\t\tTrue\t\tTrue\t\tTrue\n",
      "sym8\t\tTrue\t\tTrue\t\tTrue\t\tTrue\n",
      "sym9\t\tTrue\t\tTrue\t\tTrue\t\tTrue\n",
      "sym10\t\tTrue\t\tTrue\t\tTrue\t\tTrue\n",
      "sym11\t\tTrue\t\tTrue\t\tTrue\t\tTrue\n",
      "sym12\t\tTrue\t\tTrue\t\tTrue\t\tTrue\n",
      "sym13\t\tTrue\t\tTrue\t\tTrue\t\tTrue\n",
      "sym14\t\tTrue\t\tTrue\t\tTrue\t\tTrue\n",
      "sym15\t\tTrue\t\tTrue\t\tTrue\t\tTrue\n",
      "sym16\t\tTrue\t\tTrue\t\tTrue\t\tTrue\n",
      "sym17\t\tTrue\t\tTrue\t\tTrue\t\tTrue\n",
      "sym18\t\tTrue\t\tTrue\t\tTrue\t\tTrue\n",
      "sym19\t\tTrue\t\tTrue\t\tTrue\t\tTrue\n",
      "sym20\t\tTrue\t\tTrue\t\tTrue\t\tTrue\n"
     ]
    }
   ],
   "source": [
    "print( \"\\t\\tDec_Lo?\\t\\tDec_Lo?\\t\\tRec_Lo?\\t\\tRec_Hi?\")\n",
    "for wavelet in pywt.wavelist( kind=\"discrete\"):\n",
    "\tprint( wavelet, end=\"\\t\\t\")\n",
    "\t\n",
    "\tw = pywt.Wavelet( wavelet)\n",
    "\n",
    "\tm_dec_lo, m_dec_hi, m_rec_lo, m_rec_hi = create_filter_bank_from_low_pass_analysis( w.dec_lo)\n",
    "\n",
    "\tprint( np.allclose( m_dec_lo, w.dec_lo), end=\"\\t\\t\")\n",
    "\tprint( np.allclose( m_dec_hi, w.dec_hi), end=\"\\t\\t\")\n",
    "\tprint( np.allclose( m_rec_lo, w.rec_lo), end=\"\\t\\t\")\n",
    "\tprint( np.allclose( m_rec_hi, w.rec_hi))"
   ]
  }
 ],
 "metadata": {
  "kernelspec": {
   "display_name": "Python 3",
   "language": "python",
   "name": "python3"
  },
  "language_info": {
   "codemirror_mode": {
    "name": "ipython",
    "version": 3
   },
   "file_extension": ".py",
   "mimetype": "text/x-python",
   "name": "python",
   "nbconvert_exporter": "python",
   "pygments_lexer": "ipython3",
   "version": "3.11.7"
  }
 },
 "nbformat": 4,
 "nbformat_minor": 2
}
